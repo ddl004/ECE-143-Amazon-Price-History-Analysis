{
 "cells": [
  {
   "cell_type": "code",
   "execution_count": 1,
   "metadata": {},
   "outputs": [],
   "source": [
    "from product_class import Product\n",
    "from category_class import Category\n",
    "import numpy as np\n",
    "import pandas as pd\n",
    "from matplotlib import pyplot as plt"
   ]
  },
  {
   "cell_type": "code",
   "execution_count": 2,
   "metadata": {},
   "outputs": [
    {
     "name": "stderr",
     "output_type": "stream",
     "text": [
      "/home/derek/anaconda3/envs/ECE143/lib/python3.7/site-packages/scipy/stats/stats.py:2315: RuntimeWarning: invalid value encountered in true_divide\n",
      "  return (a - mns) / sstd\n"
     ]
    },
    {
     "name": "stdout",
     "output_type": "stream",
     "text": [
      "Product Data not available for Year 2018\n",
      "Product Data not available for Year 2018\n",
      "Product Data not available for Year 2018\n",
      "Product Data not available for Year 2018\n",
      "Product Data not available for Year 2018\n",
      "Product Data not available for Year 2018\n",
      "Product Data not available for Year 2018\n",
      "Product Data not available for Year 2018\n",
      "Product Data not available for Year 2018\n",
      "Product Data not available for Year 2018\n",
      "Product Data not available for Year 2018\n"
     ]
    },
    {
     "name": "stderr",
     "output_type": "stream",
     "text": [
      "/home/derek/anaconda3/envs/ECE143/lib/python3.7/site-packages/pandas/plotting/_matplotlib/converter.py:103: FutureWarning: Using an implicitly registered datetime converter for a matplotlib plotting method. The converter was registered by pandas on import. Future versions of pandas will require you to explicitly register matplotlib converters.\n",
      "\n",
      "To register the converters:\n",
      "\t>>> from pandas.plotting import register_matplotlib_converters\n",
      "\t>>> register_matplotlib_converters()\n",
      "  warnings.warn(msg, FutureWarning)\n"
     ]
    },
    {
     "name": "stdout",
     "output_type": "stream",
     "text": [
      "Product Data not available for Year 2018\n",
      "Product Data not available for Year 2018\n",
      "Product Data not available for Year 2018\n",
      "Product Data not available for Year 2018\n",
      "Product Data not available for Year 2018\n",
      "Product Data not available for Year 2018\n",
      "Product Data not available for Year 2018\n",
      "Product Data not available for Year 2018\n",
      "Product Data not available for Year 2018\n",
      "Product Data not available for Year 2018\n",
      "Product Data not available for Year 2018\n",
      "Product Data not available for Year 2018\n",
      "Product Data not available for Year 2018\n",
      "Product Data not available for Year 2018\n",
      "Product Data not available for Year 2018\n",
      "Product Data not available for Year 2018\n",
      "Product Data not available for Year 2018\n",
      "Product Data not available for Year 2018\n",
      "Product Data not available for Year 2018\n"
     ]
    },
    {
     "data": {
      "image/png": "[encoded data removed]",
      "text/plain": [
       "<Figure size 432x288 with 1 Axes>"
      ]
     },
     "metadata": {
      "needs_background": "light"
     },
     "output_type": "display_data"
    }
   ],
   "source": [
    "products = list(np.load('product_electronics_sorted_ph.npy', allow_pickle=True))\n",
    "products = [Product(i) for i in products]\n",
    "sample_product = products[24]\n",
    "plt.plot(sample_product.df.amazon_time, sample_product.df.amazon_price)\n",
    "cat = Category(products)"
   ]
  },
  {
   "cell_type": "code",
   "execution_count": 3,
   "metadata": {},
   "outputs": [
    {
     "name": "stdout",
     "output_type": "stream",
     "text": [
      "Product Data not available for Year 2018\n",
      "Product Data not available for Year 2018\n",
      "Product Data not available for Year 2018\n",
      "Product Data not available for Year 2018\n",
      "Product Data not available for Year 2018\n",
      "Product Data not available for Year 2018\n",
      "Product Data not available for Year 2018\n",
      "Product Data not available for Year 2018\n",
      "Product Data not available for Year 2018\n",
      "Product Data not available for Year 2018\n",
      "(44.17894736842105, 0.1342733216040146)\n",
      "Product Data not available for Year 2018\n",
      "Product Data not available for Year 2018\n",
      "Product Data not available for Year 2018\n",
      "Product Data not available for Year 2018\n",
      "Product Data not available for Year 2018\n",
      "Product Data not available for Year 2018\n",
      "Product Data not available for Year 2018\n",
      "Product Data not available for Year 2018\n",
      "Product Data not available for Year 2018\n",
      "Product Data not available for Year 2018\n",
      "0.20431663158371982\n"
     ]
    }
   ],
   "source": [
    "print(cat.calculate_avg_num_sales())\n",
    "print(cat.calculate_avg_sale_perc())"
   ]
  },
  {
   "cell_type": "code",
   "execution_count": 8,
   "metadata": {},
   "outputs": [
    {
     "name": "stdout",
     "output_type": "stream",
     "text": [
      "beyerdynamic DT 990 Pro 250 ohm Headphones, Gray, (459038)\n",
      "164.36947012580603\n",
      "206.39999999999998\n",
      "     amazon_time  amazon_price  normalized  standardized  derivative\n",
      "0     2015-06-10    206.400000    1.000000      1.378684   -1.200000\n",
      "1     2015-06-11    205.200000    0.988803      1.304450   -0.864444\n",
      "2     2015-06-12    204.671111    0.983869      1.271732   -0.464474\n",
      "3     2015-06-13    204.271053    0.980136      1.246984   -0.473175\n",
      "4     2015-06-14    203.724762    0.975039      1.213190   -0.553684\n",
      "205   2016-01-01    190.770000    0.854164      1.632679    4.173333\n",
      "206   2016-01-02    190.770000    0.854164      1.632679   -0.010000\n",
      "207   2016-01-03    190.750000    0.853977      1.631754   -0.010000\n",
      "208   2016-01-04    190.750000    0.853977      1.631754    0.000000\n",
      "209   2016-01-05    190.750000    0.853977      1.631754   -0.005000\n",
      "571   2017-01-01    128.000000    0.268486     -2.829746    0.755000\n",
      "572   2017-01-02    128.000000    0.268486     -2.829746   -0.174167\n",
      "573   2017-01-03    127.651667    0.265236     -2.851933    0.955000\n",
      "574   2017-01-04    129.910000    0.286307     -2.708090    1.129167\n",
      "575   2017-01-05    129.910000    0.286307     -2.708090   -0.673000\n",
      "936   2018-01-01    144.980000    0.426919     -1.848136   -4.428438\n",
      "937   2018-01-02    144.567500    0.423070     -1.882151   -0.240000\n",
      "938   2018-01-03    144.500000    0.422440     -1.887717   -0.033750\n",
      "939   2018-01-04    144.500000    0.422440     -1.887717    0.522500\n",
      "940   2018-01-05    145.545000    0.432190     -1.801547    0.522500\n",
      "1301  2019-01-01    155.015000    0.520551      0.343113    4.010000\n",
      "1302  2019-01-02    156.550000    0.534873      0.447288   -0.405833\n",
      "1303  2019-01-03    154.203333    0.512977      0.288029    1.225000\n",
      "1304  2019-01-04    159.000000    0.557733      0.613560    2.398333\n",
      "1305  2019-01-05    159.000000    0.557733      0.613560   -2.005000\n"
     ]
    }
   ],
   "source": [
    "sample_product = products[0]\n",
    "print(sample_product.product_dict['title'])\n",
    "print(sample_product.mean)\n",
    "print(sample_product.max)\n",
    "# plt.plot(sample_product.df.amazon_time, sample_product.df.standardized)\n",
    "print(sample_product.df.groupby(sample_product.df.amazon_time.dt.year).head())"
   ]
  },
  {
   "cell_type": "code",
   "execution_count": 38,
   "metadata": {},
   "outputs": [
    {
     "name": "stdout",
     "output_type": "stream",
     "text": [
      "Apple Watch Series 3 (GPS, 42mm) - Silver Aluminium Case with White Sport Band\n",
      "10\n",
      "4389\n",
      "4.6\n",
      "[{'asin': 'B07K39FRSL', 'attributes': [{'dimension': 'Size', 'value': '38 mm'}, {'dimension': 'Style', 'value': 'Space Gray Aluminum with Black Sport Band'}]}, {'asin': 'B07K387Y7K', 'attributes': [{'dimension': 'Size', 'value': '42mm'}, {'dimension': 'Style', 'value': 'Space Gray Aluminum with Black Sport Band'}]}]\n",
      "WEARABLE_COMPUTER\n"
     ]
    },
    {
     "data": {
      "text/plain": [
       "(0, 30000)"
      ]
     },
     "execution_count": 38,
     "metadata": {},
     "output_type": "execute_result"
    },
    {
     "data": {
      "image/png": "[encoded data removed]",
      "text/plain": [
       "<Figure size 432x288 with 1 Axes>"
      ]
     },
     "metadata": {
      "needs_background": "light"
     },
     "output_type": "display_data"
    }
   ],
   "source": [
    "sample_product = products[100]\n",
    "print(sample_product.product_dict['title'])\n",
    "# Take the median of the last 10 counts, since API reports number of reviews for variant products\n",
    "print(len(sample_product.product_dict['data']['COUNT_REVIEWS'][-10:]))\n",
    "print(np.median(sample_product.product_dict['data']['COUNT_REVIEWS'][-10:]).astype(np.int32))\n",
    "print(sample_product.product_dict['data']['RATING'][-1]*100)\n",
    "print(sample_product.product_dict['variations'])\n",
    "print(sample_product.product_dict['type'])\n",
    "\n",
    "plt.plot(range(len(sample_product.product_dict['data']['COUNT_REVIEWS'])), sample_product.product_dict['data']['COUNT_REVIEWS'])\n",
    "axes = plt.gca()\n",
    "axes.set_ylim([0,30000])"
   ]
  },
  {
   "cell_type": "code",
   "execution_count": 10,
   "metadata": {},
   "outputs": [
    {
     "data": {
      "text/plain": [
       "(0.1, 0.6)"
      ]
     },
     "execution_count": 10,
     "metadata": {},
     "output_type": "execute_result"
    },
    {
     "data": {
      "image/png": "[encoded data removed]",
      "text/plain": [
       "<Figure size 432x288 with 1 Axes>"
      ]
     },
     "metadata": {
      "needs_background": "light"
     },
     "output_type": "display_data"
    }
   ],
   "source": [
    "cat.feature_correlation('rating','sale_percentage')\n",
    "axes = plt.gca()\n",
    "# plt.xlim([3,5])\n",
    "plt.ylim([0.1,0.6])\n",
    "\n",
    "# x = [getattr(product, 'num_reviews') for product in cat.product_list]\n",
    "# for i in x:\n",
    "#     if not isinstance(i, (int,float)):\n",
    "#         print(type(i))\n",
    "#         print(i)"
   ]
  },
  {
   "cell_type": "code",
   "execution_count": 11,
   "metadata": {},
   "outputs": [
    {
     "data": {
      "text/plain": [
       "(0.1, 0.9)"
      ]
     },
     "execution_count": 11,
     "metadata": {},
     "output_type": "execute_result"
    },
    {
     "data": {
      "image/png": "[encoded data removed]",
      "text/plain": [
       "<Figure size 432x288 with 1 Axes>"
      ]
     },
     "metadata": {
      "needs_background": "light"
     },
     "output_type": "display_data"
    }
   ],
   "source": [
    "cat.feature_correlation('num_reviews','sale_percentage')\n",
    "axes = plt.gca()\n",
    "plt.xlim([0,5000])\n",
    "plt.ylim([0.1,0.9])"
   ]
  },
  {
   "cell_type": "code",
   "execution_count": null,
   "metadata": {},
   "outputs": [],
   "source": []
  }
 ],
 "metadata": {
  "kernelspec": {
   "display_name": "Python 3",
   "language": "python",
   "name": "python3"
  },
  "language_info": {
   "codemirror_mode": {
    "name": "ipython",
    "version": 3
   },
   "file_extension": ".py",
   "mimetype": "text/x-python",
   "name": "python",
   "nbconvert_exporter": "python",
   "pygments_lexer": "ipython3",
   "version": "3.7.5"
  }
 },
 "nbformat": 4,
 "nbformat_minor": 2
}
