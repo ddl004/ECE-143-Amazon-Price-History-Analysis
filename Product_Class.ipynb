{
 "cells": [
  {
   "cell_type": "code",
   "execution_count": 1,
   "metadata": {},
   "outputs": [],
   "source": [
    "import numpy as np\n",
    "from scipy import stats\n",
    "import datetime\n",
    "import matplotlib.dates as mdates\n",
    "from matplotlib import pyplot as plt\n",
    "from workalendar.usa import UnitedStates\n",
    "from operator import itemgetter\n",
    "\n",
    "import pandas as pd\n",
    "\n",
    "from product_class import Product"
   ]
  },
  {
   "cell_type": "code",
   "execution_count": 2,
   "metadata": {},
   "outputs": [],
   "source": [
    "products = list(np.load('office_products_data.npy', allow_pickle=True))\n",
    "# products = list(np.load('product_electronics_50_price_history.npy', allow_pickle=True))\n",
    "sample_product = products[20]"
   ]
  },
  {
   "cell_type": "code",
   "execution_count": 5,
   "metadata": {},
   "outputs": [
    {
     "name": "stdout",
     "output_type": "stream",
     "text": [
      "Rating and Review data not available\n",
      "  amazon_time  amazon_price  normalized  standardized  derivative\n",
      "0  2011-03-24         15.23         1.0      2.928683         0.0\n",
      "1  2011-03-25         15.23         1.0      2.928683         0.0\n",
      "2  2011-03-26         15.23         1.0      2.928683         0.0\n",
      "3  2011-03-27         15.23         1.0      2.928683         0.0\n",
      "4  2011-03-28         15.23         1.0      2.928683         0.0\n",
      "----------------------------\n",
      "test\n"
     ]
    },
    {
     "data": {
      "text/html": [
       "<div>\n",
       "<style scoped>\n",
       "    .dataframe tbody tr th:only-of-type {\n",
       "        vertical-align: middle;\n",
       "    }\n",
       "\n",
       "    .dataframe tbody tr th {\n",
       "        vertical-align: top;\n",
       "    }\n",
       "\n",
       "    .dataframe thead th {\n",
       "        text-align: right;\n",
       "    }\n",
       "</style>\n",
       "<table border=\"1\" class=\"dataframe\">\n",
       "  <thead>\n",
       "    <tr style=\"text-align: right;\">\n",
       "      <th></th>\n",
       "      <th>amazon_time</th>\n",
       "      <th>standardized</th>\n",
       "    </tr>\n",
       "  </thead>\n",
       "  <tbody>\n",
       "    <tr>\n",
       "      <th>1014</th>\n",
       "      <td>2014-01-01</td>\n",
       "      <td>0.017054</td>\n",
       "    </tr>\n",
       "    <tr>\n",
       "      <th>1033</th>\n",
       "      <td>2014-01-20</td>\n",
       "      <td>0.258957</td>\n",
       "    </tr>\n",
       "    <tr>\n",
       "      <th>1061</th>\n",
       "      <td>2014-02-17</td>\n",
       "      <td>0.170992</td>\n",
       "    </tr>\n",
       "    <tr>\n",
       "      <th>1159</th>\n",
       "      <td>2014-05-26</td>\n",
       "      <td>-0.735043</td>\n",
       "    </tr>\n",
       "    <tr>\n",
       "      <th>1198</th>\n",
       "      <td>2014-07-04</td>\n",
       "      <td>-0.515131</td>\n",
       "    </tr>\n",
       "    <tr>\n",
       "      <th>1257</th>\n",
       "      <td>2014-09-01</td>\n",
       "      <td>-0.699857</td>\n",
       "    </tr>\n",
       "    <tr>\n",
       "      <th>1299</th>\n",
       "      <td>2014-10-13</td>\n",
       "      <td>-0.589901</td>\n",
       "    </tr>\n",
       "    <tr>\n",
       "      <th>1328</th>\n",
       "      <td>2014-11-11</td>\n",
       "      <td>-0.704255</td>\n",
       "    </tr>\n",
       "    <tr>\n",
       "      <th>1344</th>\n",
       "      <td>2014-11-27</td>\n",
       "      <td>-0.695459</td>\n",
       "    </tr>\n",
       "    <tr>\n",
       "      <th>1372</th>\n",
       "      <td>2014-12-25</td>\n",
       "      <td>-0.695459</td>\n",
       "    </tr>\n",
       "  </tbody>\n",
       "</table>\n",
       "</div>"
      ],
      "text/plain": [
       "     amazon_time  standardized\n",
       "1014  2014-01-01      0.017054\n",
       "1033  2014-01-20      0.258957\n",
       "1061  2014-02-17      0.170992\n",
       "1159  2014-05-26     -0.735043\n",
       "1198  2014-07-04     -0.515131\n",
       "1257  2014-09-01     -0.699857\n",
       "1299  2014-10-13     -0.589901\n",
       "1328  2014-11-11     -0.704255\n",
       "1344  2014-11-27     -0.695459\n",
       "1372  2014-12-25     -0.695459"
      ]
     },
     "execution_count": 5,
     "metadata": {},
     "output_type": "execute_result"
    },
    {
     "data": {
      "image/png": "[encoded data removed]",
      "text/plain": [
       "<Figure size 432x288 with 1 Axes>"
      ]
     },
     "metadata": {
      "needs_background": "light"
     },
     "output_type": "display_data"
    }
   ],
   "source": [
    "product_object = Product(sample_product)\n",
    "# print(product_object.amazon_price_history)\n",
    "print(product_object.df.head())\n",
    "# print(product_object.mean)\n",
    "# print(product_object.max)\n",
    "# print(product_object.derivative_prices(product_object.df['amazon_price']))\n",
    "\n",
    "# print(product_object.mode)\n",
    "# print(product_object.std)\n",
    "print('----------------------------')\n",
    "product_object.price_holiday_correlation(2014, True)"
   ]
  },
  {
   "cell_type": "code",
   "execution_count": 9,
   "metadata": {},
   "outputs": [
    {
     "name": "stdout",
     "output_type": "stream",
     "text": [
      "[(datetime.date(2017, 1, 1), 'New year'), (datetime.date(2017, 1, 2), 'New year (Observed)'), (datetime.date(2017, 1, 16), 'Birthday of Martin Luther King, Jr.'), (datetime.date(2017, 2, 20), \"Washington's Birthday\"), (datetime.date(2017, 5, 29), 'Memorial Day'), (datetime.date(2017, 7, 4), 'Independence Day'), (datetime.date(2017, 9, 4), 'Labor Day'), (datetime.date(2017, 10, 9), 'Columbus Day'), (datetime.date(2017, 11, 10), 'Veterans Day (Observed)'), (datetime.date(2017, 11, 11), 'Veterans Day'), (datetime.date(2017, 11, 23), 'Thanksgiving Day'), (datetime.date(2017, 12, 25), 'Christmas Day')]\n"
     ]
    }
   ],
   "source": [
    "cal=UnitedStates()\n",
    "print(cal.holidays(2017))\n",
    "# us_holidays, _ = zip(*cal.holidays(2018))\n",
    "# print(us_holidays)"
   ]
  },
  {
   "cell_type": "code",
   "execution_count": null,
   "metadata": {},
   "outputs": [],
   "source": []
  }
 ],
 "metadata": {
  "kernelspec": {
   "display_name": "Python 3",
   "language": "python",
   "name": "python3"
  },
  "language_info": {
   "codemirror_mode": {
    "name": "ipython",
    "version": 3
   },
   "file_extension": ".py",
   "mimetype": "text/x-python",
   "name": "python",
   "nbconvert_exporter": "python",
   "pygments_lexer": "ipython3",
   "version": "3.7.3"
  }
 },
 "nbformat": 4,
 "nbformat_minor": 2
}
