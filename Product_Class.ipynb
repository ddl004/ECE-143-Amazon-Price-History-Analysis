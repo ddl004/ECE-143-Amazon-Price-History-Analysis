{
 "cells": [
  {
   "cell_type": "code",
   "execution_count": 3,
   "metadata": {},
   "outputs": [
    {
     "ename": "ModuleNotFoundError",
     "evalue": "No module named 'workalendar'",
     "output_type": "error",
     "traceback": [
      "\u001b[0;31m---------------------------------------------------------------------------\u001b[0m",
      "\u001b[0;31mModuleNotFoundError\u001b[0m                       Traceback (most recent call last)",
      "\u001b[0;32m<ipython-input-3-121509e60bcc>\u001b[0m in \u001b[0;36m<module>\u001b[0;34m\u001b[0m\n\u001b[1;32m      4\u001b[0m \u001b[0;32mimport\u001b[0m \u001b[0mmatplotlib\u001b[0m\u001b[0;34m.\u001b[0m\u001b[0mdates\u001b[0m \u001b[0;32mas\u001b[0m \u001b[0mmdates\u001b[0m\u001b[0;34m\u001b[0m\u001b[0;34m\u001b[0m\u001b[0m\n\u001b[1;32m      5\u001b[0m \u001b[0;32mfrom\u001b[0m \u001b[0mmatplotlib\u001b[0m \u001b[0;32mimport\u001b[0m \u001b[0mpyplot\u001b[0m \u001b[0;32mas\u001b[0m \u001b[0mplt\u001b[0m\u001b[0;34m\u001b[0m\u001b[0;34m\u001b[0m\u001b[0m\n\u001b[0;32m----> 6\u001b[0;31m \u001b[0;32mfrom\u001b[0m \u001b[0mworkalendar\u001b[0m\u001b[0;34m.\u001b[0m\u001b[0musa\u001b[0m \u001b[0;32mimport\u001b[0m \u001b[0mUnitedStates\u001b[0m\u001b[0;34m\u001b[0m\u001b[0;34m\u001b[0m\u001b[0m\n\u001b[0m\u001b[1;32m      7\u001b[0m \u001b[0;32mfrom\u001b[0m \u001b[0moperator\u001b[0m \u001b[0;32mimport\u001b[0m \u001b[0mitemgetter\u001b[0m\u001b[0;34m\u001b[0m\u001b[0;34m\u001b[0m\u001b[0m\n\u001b[1;32m      8\u001b[0m \u001b[0;34m\u001b[0m\u001b[0m\n",
      "\u001b[0;31mModuleNotFoundError\u001b[0m: No module named 'workalendar'"
     ]
    }
   ],
   "source": [
    "import numpy as np\n",
    "from scipy import stats\n",
    "import datetime\n",
    "import matplotlib.dates as mdates\n",
    "from matplotlib import pyplot as plt\n",
    "from workalendar.usa import UnitedStates\n",
    "from operator import itemgetter\n",
    "\n",
    "import pandas as pd"
   ]
  },
  {
   "cell_type": "code",
   "execution_count": 104,
   "metadata": {},
   "outputs": [],
   "source": [
    "products = list(np.load('office_products_data.npy', allow_pickle=True))\n",
    "sample_product = products[24]"
   ]
  },
  {
   "cell_type": "code",
   "execution_count": 4,
   "metadata": {},
   "outputs": [],
   "source": [
    "class Product:\n",
    "    '''\n",
    "    Modularize each product to store each feature as an attribute of a class. \n",
    "    Attributes: \n",
    "        Mean, Max, Mode, Standard Deviation, Normalized Amazon time Price History\n",
    "    Methods:\n",
    "        Holidays overlaid, Ability to detect sales, Derivative of Price History, SCatter plot with various features\n",
    "        Regression Function\n",
    "    '''\n",
    "    \n",
    "    def __init__(self, product_dict):\n",
    "        #TODO: Add more asserts\n",
    "        assert isinstance(product_dict, dict)\n",
    "        \n",
    "        self.product_dict = product_dict\n",
    "        self.amazon_price_history = product_dict['data']['AMAZON']\n",
    "        \n",
    "        self.product_df = pd.DataFrame(data=self.amazon_price_history, index=product_dict['data']['AMAZON_time'], columns=['amazon'])\n",
    "        self.product_df = remove_nan(self.product_df)\n",
    "        self.product_df['normalized'] = normalize_prices(product_df['amazon'])\n",
    "        self.product_df['standardized'] = standardize_prices(product_df['amazon'])\n",
    "        \n",
    "#         self.mean = np.average(self.amazon_price_history)\n",
    "#         self.max = max(self.amazon_price_history)\n",
    "#         self.mode = stats.mode(self.amazon_price_history)\n",
    "#         self.std = stats.tstd(self.amazon_price_history)\n",
    "        self.mean = product_df['amazon'].mean()\n",
    "        self.max = product_df['amazon'].max()\n",
    "    \n",
    "    def price_holiday_correlation(self, year=2018):\n",
    "        #Plot the amazon time price history for the given year and overlay a graph of holidays on top of that\n",
    "        year_index = [iter_date.year == year for iter_date in self.product_dict['data']['AMAZON_time']]\n",
    "        year_prices = self.amazon_price_history[np.where(year_index)]\n",
    "        year_dates = self.product_dict['data']['AMAZON_time'][np.where(year_index)]\n",
    "        print('Number of price data points for the year %d: %d'% (year, len(year_dates)))\n",
    "        \n",
    "        return year_dates, year_prices\n",
    "\n",
    "    def remove_nan(product):\n",
    "        '''Remove nan prices from price history\n",
    "\n",
    "        :param product: price history \n",
    "        :type product: pd.DataFrame or pd.Series\n",
    "        :return: product with nan entries removed\n",
    "        :rtype: pd.DataFrame or pd.Series\n",
    "        '''\n",
    "        assert isinstance(product, (pd.DataFrame,pd.Series))\n",
    "\n",
    "        return product.dropna()\n",
    "\n",
    "    def standardize_prices(x):\n",
    "        '''Given an iterable list of prices, standardize the prices\n",
    "        Data is centered at 0 mean with unit variance\n",
    "\n",
    "        :param x: price history\n",
    "        :type x: (list, np.ndarray, pd.Series)\n",
    "        :return: z-score standardized price history\n",
    "        :rtype: np.ndarray\n",
    "        '''\n",
    "\n",
    "        assert isinstance(x, (list, np.ndarray, pd.Series))\n",
    "        assert all(~np.isnan(i) for i in x)\n",
    "\n",
    "        return stats.zscore(x)\n",
    "\n",
    "    def normalize_prices(x):\n",
    "        '''Normalize an iterable list of prices to range (0,1)\n",
    "\n",
    "        :param x: price history\n",
    "        :type x: (list, np.ndarray, pd.Series)\n",
    "        :return: normalized price history\n",
    "        :rtype: np.ndarray\n",
    "        '''\n",
    "        assert isinstance(x, (list, np.ndarray, pd.Series))\n",
    "        assert all(~np.isnan(i) for i in x)\n",
    "\n",
    "        return (x-np.min(x))/(np.max(x) - np.min(x))"
   ]
  },
  {
   "cell_type": "code",
   "execution_count": 106,
   "metadata": {},
   "outputs": [
    {
     "name": "stdout",
     "output_type": "stream",
     "text": [
      "[11.88   nan 16.99 ... 11.59 11.5  11.38]\n",
      "nan\n",
      "20.98\n",
      "ModeResult(mode=array([11.67]), count=array([43]))\n",
      "nan\n",
      "Number of price data points for the year 2018: 141\n"
     ]
    }
   ],
   "source": [
    "product_object = Product(sample_product)\n",
    "print(product_object.amazon_price_history)\n",
    "print(product_object.mean)\n",
    "print(product_object.max)\n",
    "print(product_object.mode)\n",
    "print(product_object.std)\n",
    "year = 2018\n",
    "dates_year, prices_year = product_object.price_holiday_correlation(year)"
   ]
  },
  {
   "cell_type": "code",
   "execution_count": 108,
   "metadata": {},
   "outputs": [
    {
     "data": {
      "image/png": "[encoded data removed]",
      "text/plain": [
       "<Figure size 432x288 with 1 Axes>"
      ]
     },
     "metadata": {
      "needs_background": "light"
     },
     "output_type": "display_data"
    }
   ],
   "source": [
    "#Plot the dates against prices\n",
    "fig, ax = plt.subplots(constrained_layout=True)\n",
    "locator = mdates.AutoDateLocator()\n",
    "formatter = mdates.AutoDateFormatter(locator)\n",
    "ax.xaxis.set_major_locator(locator)\n",
    "ax.xaxis.set_major_formatter(formatter)\n",
    "\n",
    "ax.plot(dates_year, prices_year, '.')\n",
    "ax.set_title('%d Price vs Holidays plotter' % (year))\n",
    "\n",
    "cal=UnitedStates()\n",
    "us_holidays, _ = zip(*cal.holidays(year))\n",
    "for holiday in us_holidays:\n",
    "    plt.axvline(holiday, color = 'r')"
   ]
  },
  {
   "cell_type": "code",
   "execution_count": 86,
   "metadata": {},
   "outputs": [],
   "source": [
    "# cal=UnitedStates()\n",
    "# us_holidays, _ = zip(*cal.holidays())\n",
    "# for holiday in us_holidays:\n",
    "#     plt.axvline(holiday, color = 'r')\n",
    "# # print(holidays_year)"
   ]
  },
  {
   "cell_type": "code",
   "execution_count": 30,
   "metadata": {},
   "outputs": [
    {
     "name": "stdout",
     "output_type": "stream",
     "text": [
      "[3 4 5 6]\n"
     ]
    }
   ],
   "source": [
    "a = np.array([1, 3, 4, 5, 6, -1])\n",
    "print(a[np.where(a > 1)])\n",
    "del(dates)"
   ]
  }
 ],
 "metadata": {
  "kernelspec": {
   "display_name": "Python 3",
   "language": "python",
   "name": "python3"
  },
  "language_info": {
   "codemirror_mode": {
    "name": "ipython",
    "version": 3
   },
   "file_extension": ".py",
   "mimetype": "text/x-python",
   "name": "python",
   "nbconvert_exporter": "python",
   "pygments_lexer": "ipython3",
   "version": "3.7.5"
  }
 },
 "nbformat": 4,
 "nbformat_minor": 2
}
