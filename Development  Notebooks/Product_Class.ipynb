{
 "cells": [
  {
   "cell_type": "code",
   "execution_count": 1,
   "metadata": {},
   "outputs": [],
   "source": [
    "import numpy as np\n",
    "from scipy import stats\n",
    "import datetime\n",
    "import matplotlib.dates as mdates\n",
    "from matplotlib import pyplot as plt\n",
    "from workalendar.usa import UnitedStates\n",
    "from operator import itemgetter\n",
    "\n",
    "import pandas as pd\n",
    "\n",
    "from product_class import Product"
   ]
  },
  {
   "cell_type": "code",
   "execution_count": 2,
   "metadata": {},
   "outputs": [],
   "source": [
    "products = list(np.load('office_products_sorted_ph.npy', allow_pickle=True))\n",
    "# products = list(np.load('product_electronics_50_price_history.npy', allow_pickle=True))\n",
    "sample_product = products[20]"
   ]
  },
  {
   "cell_type": "code",
   "execution_count": 23,
   "metadata": {},
   "outputs": [
    {
     "data": {
      "image/png": "[encoded data removed]",
      "text/plain": [
       "<Figure size 432x288 with 1 Axes>"
      ]
     },
     "metadata": {
      "needs_background": "light"
     },
     "output_type": "display_data"
    }
   ],
   "source": [
    "sample = Product(sample_product)\n",
    "year = 2018\n",
    "plot = True\n",
    "df_year = sample.df[:][sample.df['amazon_time'].dt.year == year]\n",
    "        \n",
    "cal=UnitedStates()\n",
    "us_holidays, _ = zip(*cal.holidays(year))\n",
    "\n",
    "holiday_prices = sample.df[['amazon_time', 'standardized']][sample.df['amazon_time'].dt.date.isin(us_holidays)]\n",
    "holiday_prices = holiday_prices.set_index(['amazon_time'])\n",
    "# print(holiday_prices.head())\n",
    "\n",
    "if plot:\n",
    "    #Plot the dates against prices\n",
    "    fig, ax = plt.subplots(constrained_layout=True)\n",
    "    locator = mdates.AutoDateLocator()\n",
    "    formatter = mdates.AutoDateFormatter(locator)\n",
    "    ax.xaxis.set_major_locator(locator)\n",
    "    ax.xaxis.set_major_formatter(formatter)\n",
    "\n",
    "    #Plot holiday lines\n",
    "    for holiday in us_holidays:\n",
    "        # plt.axvline(holiday, color = 'r')\n",
    "        pass\n",
    "\n",
    "    ax.plot(df_year['amazon_time'], df_year['standardized'])\n",
    "    ax.set_title('%d Price vs Holidays plotter' % (year))\n",
    "    \n",
    "    #Goal: add annotations to the following four holidays: ['New year', 'Independence Day', 'Thanksgiving Day', 'Christmas Day']\n",
    "    ann_labels = ['New year', 'Independence Day', 'Thanksgiving Day', 'Christmas Day']\n",
    "    top_hols_dates = [hol[0] for hol in cal.holidays(year) if hol[1] in ann_labels] #Holidays as date_time objects\n",
    "    \n",
    "    for hol, hol_date in zip(ann_labels, top_hols_dates):\n",
    "        ann = ax.annotate(hol,\n",
    "                  xy=(hol_date, holiday_prices.loc[hol_date, 'standardized']), xycoords='data',\n",
    "                  xytext=(0, -70), textcoords='offset points',\n",
    "                  size=20,\n",
    "                  bbox=dict(boxstyle=\"round\",\n",
    "                            fc=(1.0, 0.7, 0.7),\n",
    "                            ec=(1., .5, .5)),\n",
    "                  arrowprops=dict(arrowstyle=\"wedge,tail_width=1.\",\n",
    "                                  fc=(1.0, 0.7, 0.7), ec=(1., .5, .5),\n",
    "                                  patchA=None,\n",
    "                                  patchB=None,\n",
    "                                  relpos=(0.2, 0.8),\n",
    "                                  connectionstyle=\"arc3,rad=-0.1\"))\n",
    "        break\n",
    "\n",
    "\n",
    "    # ax.plot(holiday_prices['amazon_time'], holiday_prices['standardized'], 'x', color = 'g')"
   ]
  },
  {
   "cell_type": "code",
   "execution_count": null,
   "metadata": {},
   "outputs": [],
   "source": [
    "product_object = Product(sample_product)\n",
    "# print(product_object.amazon_price_history)\n",
    "print(product_object.df.head())\n",
    "# print(product_object.mean)\n",
    "# print(product_object.max)\n",
    "# print(product_object.derivative_prices(product_object.df['amazon_price']))\n",
    "\n",
    "# print(product_object.mode)\n",
    "# print(product_object.std)\n",
    "print('----------------------------')\n",
    "product_object.price_holiday_correlation(2014, True)"
   ]
  },
  {
   "cell_type": "code",
   "execution_count": null,
   "metadata": {},
   "outputs": [],
   "source": [
    "cal=UnitedStates()\n",
    "print(cal.holidays(2017))\n",
    "# us_holidays, _ = zip(*cal.holidays(2018))\n",
    "# print(us_holidays)"
   ]
  },
  {
   "cell_type": "code",
   "execution_count": null,
   "metadata": {},
   "outputs": [],
   "source": []
  }
 ],
 "metadata": {
  "kernelspec": {
   "display_name": "Python 3",
   "language": "python",
   "name": "python3"
  },
  "language_info": {
   "codemirror_mode": {
    "name": "ipython",
    "version": 3
   },
   "file_extension": ".py",
   "mimetype": "text/x-python",
   "name": "python",
   "nbconvert_exporter": "python",
   "pygments_lexer": "ipython3",
   "version": "3.7.1"
  }
 },
 "nbformat": 4,
 "nbformat_minor": 2
}
