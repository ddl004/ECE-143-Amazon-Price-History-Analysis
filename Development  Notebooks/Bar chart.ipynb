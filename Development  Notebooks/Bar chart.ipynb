{
 "cells": [
  {
   "cell_type": "code",
   "execution_count": 11,
   "metadata": {},
   "outputs": [],
   "source": [
    "from product_class import Product\n",
    "from category_class import Category\n",
    "import numpy as np\n",
    "from scipy import stats\n",
    "import datetime\n",
    "import matplotlib.dates as mdates\n",
    "from matplotlib import pyplot as plt\n",
    "from workalendar.usa import UnitedStates\n",
    "from operator import itemgetter\n",
    "import pandas as pd\n",
    "import matplotlib.ticker as mtick\n",
    "from matplotlib.ticker import PercentFormatter"
   ]
  },
  {
   "cell_type": "code",
   "execution_count": 4,
   "metadata": {},
   "outputs": [
    {
     "name": "stderr",
     "output_type": "stream",
     "text": [
      "C:\\Users\\angie\\Anaconda3\\lib\\site-packages\\scipy\\stats\\stats.py:2253: RuntimeWarning: invalid value encountered in true_divide\n",
      "  return (a - mns) / sstd\n"
     ]
    },
    {
     "name": "stdout",
     "output_type": "stream",
     "text": [
      "Product Data not available for Year 2018\n",
      "Product Data not available for Year 2018\n",
      "Product Data not available for Year 2018\n",
      "Product Data not available for Year 2018\n",
      "Product Data not available for Year 2018\n",
      "Product Data not available for Year 2018\n",
      "Product Data not available for Year 2018\n",
      "Product Data not available for Year 2018\n",
      "Product Data not available for Year 2018\n",
      "Product Data not available for Year 2018\n",
      "Product Data not available for Year 2018\n",
      "Product Data not available for Year 2018\n",
      "Product Data not available for Year 2018\n",
      "Product Data not available for Year 2018\n",
      "Rating and Review data not available\n",
      "Product Data not available for Year 2018\n",
      "Product Data not available for Year 2018\n",
      "Product Data not available for Year 2018\n",
      "Product Data not available for Year 2018\n",
      "Rating and Review data not available\n",
      "Product Data not available for Year 2018\n",
      "Rating and Review data not available\n",
      "Product Data not available for Year 2018\n",
      "Product Data not available for Year 2018\n",
      "Rating and Review data not available\n",
      "Product Data not available for Year 2018\n",
      "Product Data not available for Year 2018\n",
      "Product Data not available for Year 2018\n",
      "Product Data not available for Year 2018\n",
      "Rating and Review data not available\n",
      "Product Data not available for Year 2018\n",
      "Rating and Review data not available\n",
      "Product Data not available for Year 2018\n",
      "Product Data not available for Year 2018\n",
      "Product Data not available for Year 2018\n",
      "Product Data not available for Year 2018\n",
      "Product Data not available for Year 2018\n",
      "Product Data not available for Year 2018\n",
      "Rating and Review data not available\n",
      "Product Data not available for Year 2018\n",
      "Product Data not available for Year 2018\n",
      "Product Data not available for Year 2018\n",
      "Product Data not available for Year 2018\n",
      "Product Data not available for Year 2018\n",
      "Product Data not available for Year 2018\n",
      "Product Data not available for Year 2018\n",
      "Rating and Review data not available\n",
      "Product Data not available for Year 2018\n",
      "Product Data not available for Year 2018\n",
      "Rating and Review data not available\n",
      "Product Data not available for Year 2018\n",
      "Product Data not available for Year 2018\n",
      "Product Data not available for Year 2018\n",
      "Product Data not available for Year 2018\n",
      "Product Data not available for Year 2018\n",
      "Product Data not available for Year 2018\n",
      "Product Data not available for Year 2018\n",
      "Product Data not available for Year 2018\n",
      "Product Data not available for Year 2018\n",
      "Product Data not available for Year 2018\n",
      "Product Data not available for Year 2018\n",
      "Product Data not available for Year 2018\n",
      "Product Data not available for Year 2018\n",
      "Product Data not available for Year 2018\n",
      "Rating and Review data not available\n"
     ]
    }
   ],
   "source": [
    "products_of = list(np.load('office_products_sorted_ph.npy', allow_pickle=True))\n",
    "products_of = [Product(i) for i in products_of]\n",
    "\n",
    "products_so = list(np.load('product_software_sorted_ph.npy', allow_pickle=True))\n",
    "products_so = [Product(i) for i in products_so]\n",
    "\n",
    "products_el = list(np.load('product_electronics_sorted_ph.npy', allow_pickle=True))\n",
    "products_el = [Product(i) for i in products_el]\n",
    "\n",
    "products_toy = list(np.load('toy_products_sorted_ph.npy', allow_pickle=True))\n",
    "products_toy = [Product(i) for i in products_toy]"
   ]
  },
  {
   "cell_type": "code",
   "execution_count": 5,
   "metadata": {},
   "outputs": [
    {
     "name": "stdout",
     "output_type": "stream",
     "text": [
      "Product Data not available for Year 2018\n",
      "Product Data not available for Year 2018\n",
      "Product Data not available for Year 2018\n",
      "Product Data not available for Year 2018\n",
      "Product Data not available for Year 2018\n",
      "Product Data not available for Year 2018\n",
      "Product Data not available for Year 2018\n",
      "Product Data not available for Year 2018\n",
      "Product Data not available for Year 2018\n",
      "Product Data not available for Year 2018\n",
      "Product Data not available for Year 2018\n",
      "Product Data not available for Year 2018\n",
      "Product Data not available for Year 2018\n",
      "Product Data not available for Year 2018\n",
      "Product Data not available for Year 2018\n",
      "Product Data not available for Year 2018\n",
      "Product Data not available for Year 2018\n",
      "Product Data not available for Year 2018\n",
      "Product Data not available for Year 2018\n",
      "Product Data not available for Year 2018\n",
      "Product Data not available for Year 2018\n",
      "Product Data not available for Year 2018\n",
      "Product Data not available for Year 2018\n",
      "Product Data not available for Year 2018\n",
      "Product Data not available for Year 2018\n",
      "Product Data not available for Year 2018\n",
      "Product Data not available for Year 2018\n",
      "Product Data not available for Year 2018\n",
      "Product Data not available for Year 2018\n",
      "Product Data not available for Year 2018\n",
      "Product Data not available for Year 2018\n",
      "Product Data not available for Year 2018\n",
      "Product Data not available for Year 2018\n",
      "Product Data not available for Year 2018\n",
      "Product Data not available for Year 2018\n",
      "Product Data not available for Year 2018\n",
      "Product Data not available for Year 2018\n",
      "Product Data not available for Year 2018\n",
      "Product Data not available for Year 2018\n",
      "Product Data not available for Year 2018\n",
      "Product Data not available for Year 2018\n",
      "Product Data not available for Year 2018\n",
      "Product Data not available for Year 2018\n",
      "Product Data not available for Year 2018\n",
      "Product Data not available for Year 2018\n",
      "Product Data not available for Year 2018\n",
      "Product Data not available for Year 2018\n",
      "Product Data not available for Year 2018\n",
      "Product Data not available for Year 2018\n",
      "Product Data not available for Year 2018\n",
      "Product Data not available for Year 2018\n",
      "Product Data not available for Year 2018\n",
      "Product Data not available for Year 2018\n",
      "Product Data not available for Year 2018\n",
      "Product Data not available for Year 2018\n",
      "Product Data not available for Year 2018\n",
      "Product Data not available for Year 2018\n",
      "Product Data not available for Year 2018\n",
      "Product Data not available for Year 2018\n",
      "Product Data not available for Year 2018\n",
      "Product Data not available for Year 2018\n",
      "Product Data not available for Year 2018\n",
      "Product Data not available for Year 2018\n",
      "Product Data not available for Year 2018\n",
      "Product Data not available for Year 2018\n",
      "Product Data not available for Year 2018\n",
      "Product Data not available for Year 2018\n",
      "Product Data not available for Year 2018\n",
      "Product Data not available for Year 2018\n",
      "Product Data not available for Year 2018\n",
      "Product Data not available for Year 2018\n",
      "Product Data not available for Year 2018\n",
      "Product Data not available for Year 2018\n",
      "Product Data not available for Year 2018\n",
      "Product Data not available for Year 2018\n",
      "Product Data not available for Year 2018\n",
      "Product Data not available for Year 2018\n",
      "Product Data not available for Year 2018\n",
      "Product Data not available for Year 2018\n",
      "Product Data not available for Year 2018\n",
      "Product Data not available for Year 2018\n",
      "Product Data not available for Year 2018\n",
      "Product Data not available for Year 2018\n",
      "Product Data not available for Year 2018\n",
      "Product Data not available for Year 2018\n",
      "Product Data not available for Year 2018\n",
      "Product Data not available for Year 2018\n",
      "Product Data not available for Year 2018\n",
      "Product Data not available for Year 2018\n",
      "Product Data not available for Year 2018\n",
      "Product Data not available for Year 2018\n",
      "Product Data not available for Year 2018\n",
      "Product Data not available for Year 2018\n",
      "Product Data not available for Year 2018\n",
      "Product Data not available for Year 2018\n",
      "Product Data not available for Year 2018\n",
      "Product Data not available for Year 2018\n",
      "Product Data not available for Year 2018\n",
      "Product Data not available for Year 2018\n",
      "Product Data not available for Year 2018\n",
      "Product Data not available for Year 2018\n",
      "Product Data not available for Year 2018\n",
      "Product Data not available for Year 2018\n",
      "Product Data not available for Year 2018\n",
      "Product Data not available for Year 2018\n",
      "Product Data not available for Year 2018\n",
      "Product Data not available for Year 2018\n",
      "Product Data not available for Year 2018\n",
      "Product Data not available for Year 2018\n",
      "Product Data not available for Year 2018\n"
     ]
    }
   ],
   "source": [
    "cat_of = Category(products_of)\n",
    "cat_so = Category(products_so)\n",
    "cat_el = Category(products_el)\n",
    "cat_toy = Category(products_toy)"
   ]
  },
  {
   "cell_type": "code",
   "execution_count": 6,
   "metadata": {},
   "outputs": [
    {
     "name": "stdout",
     "output_type": "stream",
     "text": [
      "Product Data not available for Year 2018\n",
      "Product Data not available for Year 2018\n",
      "Product Data not available for Year 2018\n",
      "Product Data not available for Year 2018\n",
      "Product Data not available for Year 2018\n",
      "Product Data not available for Year 2018\n",
      "Product Data not available for Year 2018\n",
      "Product Data not available for Year 2018\n",
      "Product Data not available for Year 2018\n",
      "Product Data not available for Year 2018\n",
      "Product Data not available for Year 2018\n",
      "Product Data not available for Year 2018\n",
      "Product Data not available for Year 2018\n",
      "Product Data not available for Year 2018\n",
      "Product Data not available for Year 2018\n",
      "Product Data not available for Year 2018\n",
      "Product Data not available for Year 2018\n",
      "Product Data not available for Year 2018\n",
      "Product Data not available for Year 2018\n",
      "Product Data not available for Year 2018\n",
      "Product Data not available for Year 2018\n",
      "Product Data not available for Year 2018\n",
      "Product Data not available for Year 2018\n",
      "Product Data not available for Year 2018\n",
      "Product Data not available for Year 2018\n",
      "Product Data not available for Year 2018\n",
      "Product Data not available for Year 2018\n",
      "Product Data not available for Year 2018\n",
      "Product Data not available for Year 2018\n",
      "Product Data not available for Year 2018\n",
      "Product Data not available for Year 2018\n",
      "Product Data not available for Year 2018\n",
      "Product Data not available for Year 2018\n",
      "Product Data not available for Year 2018\n",
      "Product Data not available for Year 2018\n",
      "Product Data not available for Year 2018\n",
      "Product Data not available for Year 2018\n",
      "Product Data not available for Year 2018\n",
      "Product Data not available for Year 2018\n",
      "Product Data not available for Year 2018\n",
      "Product Data not available for Year 2018\n",
      "Product Data not available for Year 2018\n",
      "Product Data not available for Year 2018\n",
      "Product Data not available for Year 2018\n",
      "Product Data not available for Year 2018\n",
      "Product Data not available for Year 2018\n",
      "Product Data not available for Year 2018\n",
      "Product Data not available for Year 2018\n",
      "Product Data not available for Year 2018\n",
      "Product Data not available for Year 2018\n",
      "Product Data not available for Year 2018\n",
      "Product Data not available for Year 2018\n",
      "Product Data not available for Year 2018\n",
      "Product Data not available for Year 2018\n",
      "Product Data not available for Year 2018\n"
     ]
    }
   ],
   "source": [
    "avg_of = cat_of.calculate_avg_num_sales()\n",
    "avg_so = cat_so.calculate_avg_num_sales()\n",
    "avg_el = cat_el.calculate_avg_num_sales()\n",
    "avg_toy = cat_toy.calculate_avg_num_sales()"
   ]
  },
  {
   "cell_type": "code",
   "execution_count": 41,
   "metadata": {
    "scrolled": true
   },
   "outputs": [
    {
     "data": {
      "image/png": "[encoded data removed]",
      "text/plain": [
       "<Figure size 432x288 with 1 Axes>"
      ]
     },
     "metadata": {
      "needs_background": "light"
     },
     "output_type": "display_data"
    }
   ],
   "source": [
    "objects = ('Office', 'Software', 'Electronic', 'Toy')\n",
    "y_pos = np.arange(len(objects))\n",
    "performance = [avg_of[0], avg_so[0], avg_el[0], avg_toy[0]]\n",
    "\n",
    "plt.bar(y_pos, performance, align='center', alpha=0.5, color=['blue', 'gold', 'green', 'red'])\n",
    "plt.xticks(y_pos, objects)\n",
    "plt.ylabel('Numbers of Day',rotation=0, labelpad=50)\n",
    "plt.title('Sale frequency')\n",
    "plt.savefig('1411.jpg', figsize=(1700,2400))\n",
    "\n",
    "plt.show()"
   ]
  },
  {
   "cell_type": "code",
   "execution_count": 7,
   "metadata": {},
   "outputs": [
    {
     "name": "stdout",
     "output_type": "stream",
     "text": [
      "Product Data not available for Year 2018\n",
      "Product Data not available for Year 2018\n",
      "Product Data not available for Year 2018\n",
      "Product Data not available for Year 2018\n",
      "Product Data not available for Year 2018\n",
      "Product Data not available for Year 2018\n",
      "Product Data not available for Year 2018\n",
      "Product Data not available for Year 2018\n",
      "Product Data not available for Year 2018\n",
      "Product Data not available for Year 2018\n",
      "Product Data not available for Year 2018\n",
      "Product Data not available for Year 2018\n",
      "Product Data not available for Year 2018\n",
      "Product Data not available for Year 2018\n",
      "Product Data not available for Year 2018\n",
      "Product Data not available for Year 2018\n",
      "Product Data not available for Year 2018\n",
      "Product Data not available for Year 2018\n",
      "Product Data not available for Year 2018\n",
      "Product Data not available for Year 2018\n",
      "Product Data not available for Year 2018\n",
      "Product Data not available for Year 2018\n",
      "Product Data not available for Year 2018\n",
      "Product Data not available for Year 2018\n",
      "Product Data not available for Year 2018\n",
      "Product Data not available for Year 2018\n",
      "Product Data not available for Year 2018\n",
      "Product Data not available for Year 2018\n",
      "Product Data not available for Year 2018\n",
      "Product Data not available for Year 2018\n",
      "Product Data not available for Year 2018\n",
      "Product Data not available for Year 2018\n",
      "Product Data not available for Year 2018\n",
      "Product Data not available for Year 2018\n",
      "Product Data not available for Year 2018\n",
      "Product Data not available for Year 2018\n",
      "Product Data not available for Year 2018\n",
      "Product Data not available for Year 2018\n",
      "Product Data not available for Year 2018\n",
      "Product Data not available for Year 2018\n",
      "Product Data not available for Year 2018\n",
      "Product Data not available for Year 2018\n",
      "Product Data not available for Year 2018\n",
      "Product Data not available for Year 2018\n",
      "Product Data not available for Year 2018\n",
      "Product Data not available for Year 2018\n",
      "Product Data not available for Year 2018\n",
      "Product Data not available for Year 2018\n",
      "Product Data not available for Year 2018\n",
      "Product Data not available for Year 2018\n",
      "Product Data not available for Year 2018\n",
      "Product Data not available for Year 2018\n",
      "Product Data not available for Year 2018\n",
      "Product Data not available for Year 2018\n",
      "Product Data not available for Year 2018\n"
     ]
    }
   ],
   "source": [
    "de_of = cat_of.calculate_avg_sale_perc()\n",
    "de_so = cat_so.calculate_avg_sale_perc()\n",
    "de_el = cat_el.calculate_avg_sale_perc()\n",
    "de_toy = cat_toy.calculate_avg_sale_perc()"
   ]
  },
  {
   "cell_type": "code",
   "execution_count": 8,
   "metadata": {},
   "outputs": [
    {
     "data": {
      "text/plain": [
       "0.2072253069671601"
      ]
     },
     "execution_count": 8,
     "metadata": {},
     "output_type": "execute_result"
    }
   ],
   "source": [
    "de_of"
   ]
  },
  {
   "cell_type": "code",
   "execution_count": 15,
   "metadata": {},
   "outputs": [
    {
     "data": {
      "image/png": "[encoded data removed]",
      "text/plain": [
       "<Figure size 432x288 with 1 Axes>"
      ]
     },
     "metadata": {
      "needs_background": "light"
     },
     "output_type": "display_data"
    }
   ],
   "source": [
    "objects = ('Office', 'Software', 'Electronic', 'Toy')\n",
    "y_pos = np.arange(len(objects))\n",
    "performance = [de_of, de_so, de_el, de_toy]\n",
    "\n",
    "plt.bar(y_pos, performance, align='center', alpha=0.5, color=['blue', 'gold', 'green', 'red'])\n",
    "plt.xticks(y_pos, objects)\n",
    "plt.ylabel('Price \\n decrease \\n percentage',rotation=0, labelpad=50)\n",
    "\n",
    "plt.gca().yaxis.set_major_formatter(PercentFormatter(1))\n",
    "\n",
    "plt.title('Sale percentage')\n",
    "plt.savefig('1412.jpg', figsize=(1700,2400))\n",
    "\n",
    "plt.show()"
   ]
  },
  {
   "cell_type": "code",
   "execution_count": null,
   "metadata": {},
   "outputs": [],
   "source": []
  }
 ],
 "metadata": {
  "kernelspec": {
   "display_name": "Python 3",
   "language": "python",
   "name": "python3"
  },
  "language_info": {
   "codemirror_mode": {
    "name": "ipython",
    "version": 3
   },
   "file_extension": ".py",
   "mimetype": "text/x-python",
   "name": "python",
   "nbconvert_exporter": "python",
   "pygments_lexer": "ipython3",
   "version": "3.7.5"
  }
 },
 "nbformat": 4,
 "nbformat_minor": 2
}
