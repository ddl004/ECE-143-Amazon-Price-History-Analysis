{
 "cells": [
  {
   "cell_type": "code",
   "execution_count": 1,
   "metadata": {},
   "outputs": [],
   "source": [
    "import keepa\n",
    "import numpy as np\n",
    "import matplotlib as plt\n",
    "\n",
    "api_key = 'e6ihvarndmd2iee2bgeg60afm06gru9242g310tb4tv1kji72u57uon4us908d5h'\n",
    "\n",
    "api = keepa.Keepa(api_key)"
   ]
  },
  {
   "cell_type": "code",
   "execution_count": 10,
   "metadata": {
    "scrolled": true
   },
   "outputs": [
    {
     "name": "stdout",
     "output_type": "stream",
     "text": [
      "B01J4GCK1W\n"
     ]
    }
   ],
   "source": [
    "bestsellers = []\n",
    "electronics = '172282'\n",
    "bestsellers = api.best_sellers_query(electronics)\n",
    "\n",
    "print(bestsellers[0])"
   ]
  },
  {
   "cell_type": "code",
   "execution_count": 17,
   "metadata": {},
   "outputs": [
    {
     "data": {
      "text/plain": [
       "{'172282': {'domainId': 1,\n",
       "  'catId': 172282,\n",
       "  'name': 'Electronics',\n",
       "  'children': [493964, 13900861, 13900871, 13900851, 2527553011],\n",
       "  'parent': 0,\n",
       "  'highestRank': 31763226,\n",
       "  'productCount': 9667376,\n",
       "  'contextFreeName': None}}"
      ]
     },
     "execution_count": 17,
     "metadata": {},
     "output_type": "execute_result"
    }
   ],
   "source": [
    "api.category_lookup('172282')"
   ]
  },
  {
   "cell_type": "code",
   "execution_count": 11,
   "metadata": {},
   "outputs": [
    {
     "name": "stdout",
     "output_type": "stream",
     "text": [
      "510000\n"
     ]
    }
   ],
   "source": [
    "print(len(bestsellers))\n",
    "np.save('bestsellers.npy', bestsellers)"
   ]
  },
  {
   "cell_type": "code",
   "execution_count": 16,
   "metadata": {},
   "outputs": [
    {
     "name": "stdout",
     "output_type": "stream",
     "text": [
      "['B01J4GCK1W', 'B003X7INLK', 'B07JQ5WTZL', 'B079QHML21', 'B07FYPXRQ9', 'B0043CHWHA', 'B00N2ZDXW2', 'B07HCPFPD2', 'B07PXGQC1Q', 'B06XX24YWT', 'B014M8ZO8S', 'B07894S727', 'B07Q4D6QMC', 'B00FJEDOWI', 'B076H3SRXG', 'B07P6T8J87', 'B072HNLLGN', 'B079JD7F7G', 'B01I0IGFKC', 'B00DUQUUDI', 'B07K25P3D7', 'B071DVKMJM', 'B01E3QM34W', 'B07ZPC9QD4', 'B071RSRP7D', 'B0774YFVV3', 'B071L1V7CN', 'B06XH3PWSF', 'B07M8DTHGL', 'B01B25PGRI', 'B00WR23VRI', 'B071VDC6ZS', 'B07P3NPM1X', 'B07FZ8S74R', 'B00F4CEHNK', 'B07CPS16L4', 'B00F2U3LIG', 'B01E9AHU8Q', 'B009WHV3BM', 'B07DGR98VQ', 'B07BFS3G7P', 'B06XX1MSJQ', 'B01M0GB8CC', 'B06XT3H8T3', 'B07Q6ZR5PK', 'B07FZ4ZFL9', 'B00BWU3HNY', 'B0791TX5P5', 'B07FKR6KXF', 'B06XGWJTS7']\n"
     ]
    }
   ],
   "source": [
    "print(bestsellers[0:50])"
   ]
  },
  {
   "cell_type": "code",
   "execution_count": null,
   "metadata": {},
   "outputs": [],
   "source": [
    "products_electronics_bs = api.query(bestsellers[0:200])\n",
    "assert(len(products_electronics_bs) > 50)\n",
    "assert(type(products_electronics_bs[0]) == dict)\n",
    "np.save('product_electronics.npy', products_electronics_bs)\n",
    "\n",
    "\n",
    "# products_electronics_bs_2 = api.query(bestsellers[200:400])\n",
    "# assert(type(products_electronics_bs[0]) == dict)\n",
    "# np.save('product_electronics_2.npy', products_electronics_bs_2)"
   ]
  },
  {
   "cell_type": "code",
   "execution_count": 43,
   "metadata": {},
   "outputs": [
    {
     "name": "stdout",
     "output_type": "stream",
     "text": [
      "51\n"
     ]
    }
   ],
   "source": [
    "# products = api.query('B00HGE0MT2')\n",
    "product = products_electronics_bs[20]\n",
    "cnt = 0\n",
    "for product in products_electronics_bs:\n",
    "    if len(product['data']['AMAZON']) > 50:\n",
    "        cnt += 1\n",
    "print(cnt)\n"
   ]
  }
 ],
 "metadata": {
  "kernelspec": {
   "display_name": "Python 3",
   "language": "python",
   "name": "python3"
  },
  "language_info": {
   "codemirror_mode": {
    "name": "ipython",
    "version": 3
   },
   "file_extension": ".py",
   "mimetype": "text/x-python",
   "name": "python",
   "nbconvert_exporter": "python",
   "pygments_lexer": "ipython3",
   "version": "3.7.5"
  }
 },
 "nbformat": 4,
 "nbformat_minor": 2
}
